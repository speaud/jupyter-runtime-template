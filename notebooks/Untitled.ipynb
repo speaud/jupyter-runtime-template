{
 "cells": [
  {
   "cell_type": "code",
   "execution_count": 1,
   "id": "ccf10804-37c4-4a1f-987c-74c1eda9c341",
   "metadata": {},
   "outputs": [
    {
     "ename": "Error",
     "evalue": "Line 1, Character 16\nimport fs from \"fs\"\n_______________^\nTS2307: Cannot find module 'fs' or its corresponding type declarations.",
     "execution_count": 1,
     "output_type": "error",
     "traceback": [
      "Error: Line 1, Character 16",
      "import fs from \"fs\"",
      "_______________^",
      "TS2307: Cannot find module 'fs' or its corresponding type declarations.",
      "    at execTranspile (/opt/conda/lib/node_modules/itypescript/lib/kernel.js:229:23)",
      "    at Session.transpiler [as transpile] (/opt/conda/lib/node_modules/itypescript/lib/kernel.js:288:35)",
      "    at Session._runNow (/opt/conda/lib/node_modules/itypescript/node_modules/nel/lib/nel.js:835:39)",
      "    at Session._run (/opt/conda/lib/node_modules/itypescript/node_modules/nel/lib/nel.js:786:14)",
      "    at Session.execute (/opt/conda/lib/node_modules/itypescript/node_modules/nel/lib/nel.js:929:10)",
      "    at Kernel.execute_request (/opt/conda/lib/node_modules/itypescript/node_modules/jp-kernel/lib/handlers_v5.js:116:18)",
      "    at Kernel.onShellMessage (/opt/conda/lib/node_modules/itypescript/node_modules/jp-kernel/lib/jp-kernel.js:285:41)",
      "    at Socket.<anonymous> (/opt/conda/lib/node_modules/itypescript/node_modules/jmp/index.js:350:17)",
      "    at Socket.emit (node:events:527:28)",
      "    at Socket._emitMessage (/opt/conda/lib/node_modules/itypescript/node_modules/zeromq/lib/index.js:649:15)"
     ]
    }
   ],
   "source": [
    "import fs from \"fs\""
   ]
  },
  {
   "cell_type": "code",
   "execution_count": null,
   "id": "ecee77cf-11b8-43da-a40c-3836d3a8fc5d",
   "metadata": {},
   "outputs": [],
   "source": []
  }
 ],
 "metadata": {
  "kernelspec": {
   "display_name": "Typescript 4.9",
   "language": "typescript",
   "name": "typescript"
  },
  "language_info": {
   "file_extension": ".ts",
   "mimetype": "application/x-typescript",
   "name": "typescript",
   "version": "4.9.5"
  }
 },
 "nbformat": 4,
 "nbformat_minor": 5
}
