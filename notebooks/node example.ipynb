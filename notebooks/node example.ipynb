{
 "cells": [
  {
   "cell_type": "code",
   "execution_count": 1,
   "id": "4273b91d-e517-4549-8352-231d5aaa9874",
   "metadata": {},
   "outputs": [],
   "source": [
    "const a = 1"
   ]
  },
  {
   "cell_type": "code",
   "execution_count": 2,
   "id": "02152fc9-52ae-4ff6-8580-265f126575cf",
   "metadata": {},
   "outputs": [
    {
     "name": "stdout",
     "output_type": "stream",
     "text": [
      "1\n"
     ]
    }
   ],
   "source": [
    "console.log(a)"
   ]
  },
  {
   "cell_type": "code",
   "execution_count": 4,
   "id": "14fce088-ffc9-4970-a799-c643136cd50d",
   "metadata": {},
   "outputs": [
    {
     "ename": "SyntaxError",
     "evalue": "Unexpected identifier",
     "execution_count": 4,
     "output_type": "error",
     "traceback": [
      "evalmachine.<anonymous>:1",
      "! npm install lodash",
      "      ^^^^^^^",
      "",
      "SyntaxError: Unexpected identifier",
      "    at new Script (node:vm:100:7)",
      "    at createScript (node:vm:257:10)",
      "    at Object.runInThisContext (node:vm:305:10)",
      "    at run ([eval]:1020:15)",
      "    at onRunRequest ([eval]:864:18)",
      "    at onMessage ([eval]:828:13)",
      "    at process.emit (node:events:527:28)",
      "    at emit (node:internal/child_process:936:14)",
      "    at processTicksAndRejections (node:internal/process/task_queues:84:21)"
     ]
    }
   ],
   "source": [
    "! npm install lodash"
   ]
  }
 ],
 "metadata": {
  "kernelspec": {
   "display_name": "JavaScript (Node.js)",
   "language": "javascript",
   "name": "javascript"
  },
  "language_info": {
   "file_extension": ".js",
   "mimetype": "application/javascript",
   "name": "javascript",
   "version": "17.9.0"
  }
 },
 "nbformat": 4,
 "nbformat_minor": 5
}
