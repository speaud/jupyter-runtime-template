{
 "cells": [
  {
   "cell_type": "code",
   "execution_count": 6,
   "id": "f5bf8f2f-5c7a-4004-a8a7-005d48ffa961",
   "metadata": {},
   "outputs": [
    {
     "name": "stdout",
     "output_type": "stream",
     "text": [
      "The autoreload extension is already loaded. To reload it, use:\n",
      "  %reload_ext autoreload\n"
     ]
    }
   ],
   "source": [
    "%load_ext autoreload\n",
    "%autoreload 3"
   ]
  },
  {
   "cell_type": "code",
   "execution_count": 2,
   "id": "7880dfc7-0620-41b3-a157-5e51aae9b8da",
   "metadata": {},
   "outputs": [
    {
     "data": {
      "application/javascript": [
       "const asd = \"asdasd\"\n"
      ],
      "text/plain": [
       "<IPython.core.display.Javascript object>"
      ]
     },
     "metadata": {},
     "output_type": "display_data"
    }
   ],
   "source": [
    "%%javascript\n",
    "const asd = \"asdasd\""
   ]
  },
  {
   "cell_type": "code",
   "execution_count": 3,
   "id": "4a6ed2e4-e7c2-4243-b73d-a13f8335c3da",
   "metadata": {},
   "outputs": [],
   "source": [
    "# from IPython.core.display import Javascript"
   ]
  },
  {
   "cell_type": "code",
   "execution_count": null,
   "id": "6745c935-625d-4ead-b6cd-3427d0e8f87c",
   "metadata": {},
   "outputs": [],
   "source": []
  },
  {
   "cell_type": "code",
   "execution_count": null,
   "id": "6ac32f88-627e-4a78-812e-8e0ff9442f31",
   "metadata": {},
   "outputs": [],
   "source": []
  },
  {
   "cell_type": "code",
   "execution_count": null,
   "id": "5feede05-5438-4020-8b63-58422bb312e3",
   "metadata": {},
   "outputs": [],
   "source": []
  }
 ],
 "metadata": {
  "kernelspec": {
   "display_name": "Python 3 (ipykernel)",
   "language": "python",
   "name": "python3"
  },
  "language_info": {
   "codemirror_mode": {
    "name": "ipython",
    "version": 3
   },
   "file_extension": ".py",
   "mimetype": "text/x-python",
   "name": "python",
   "nbconvert_exporter": "python",
   "pygments_lexer": "ipython3",
   "version": "3.8.13"
  }
 },
 "nbformat": 4,
 "nbformat_minor": 5
}
