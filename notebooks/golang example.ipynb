{
 "cells": [
  {
   "cell_type": "code",
   "execution_count": 1,
   "id": "b91f445a-b689-4b38-a1a2-002c947604da",
   "metadata": {},
   "outputs": [],
   "source": [
    "import \"fmt\""
   ]
  },
  {
   "cell_type": "code",
   "execution_count": 2,
   "id": "873cd740-3c3d-47a1-905f-d37a0b970d46",
   "metadata": {},
   "outputs": [
    {
     "name": "stdout",
     "output_type": "stream",
     "text": [
      "golang example"
     ]
    },
    {
     "data": {
      "text/plain": [
       "14 <nil>"
      ]
     },
     "execution_count": 2,
     "metadata": {},
     "output_type": "execute_result"
    }
   ],
   "source": [
    "fmt.Printf(\"golang example\")"
   ]
  },
  {
   "cell_type": "code",
   "execution_count": null,
   "id": "cc3ff655-f926-4c4d-ab63-1c24c83f84ee",
   "metadata": {},
   "outputs": [],
   "source": []
  },
  {
   "cell_type": "code",
   "execution_count": 4,
   "id": "f7a34e07-3329-4a1e-85a6-63c4c5da73dc",
   "metadata": {},
   "outputs": [],
   "source": [
    "import \"fiber\""
   ]
  },
  {
   "cell_type": "code",
   "execution_count": null,
   "id": "111d9587-a018-4fb8-9fef-096da43f1e85",
   "metadata": {},
   "outputs": [],
   "source": []
  }
 ],
 "metadata": {
  "kernelspec": {
   "display_name": "Go",
   "language": "go",
   "name": "gophernotes"
  },
  "language_info": {
   "codemirror_mode": "",
   "file_extension": ".go",
   "mimetype": "",
   "name": "go",
   "nbconvert_exporter": "",
   "pygments_lexer": "",
   "version": "go1.18.1"
  }
 },
 "nbformat": 4,
 "nbformat_minor": 5
}
