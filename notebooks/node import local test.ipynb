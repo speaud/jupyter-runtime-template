{
 "cells": [
  {
   "cell_type": "code",
   "execution_count": 1,
   "id": "c2d3a0d6-08ef-4345-9df6-4f5696438434",
   "metadata": {},
   "outputs": [],
   "source": [
    "// %load_ext autoreload\n",
    "// %autoreload 3"
   ]
  },
  {
   "cell_type": "code",
   "execution_count": 2,
   "id": "6c4be635-6b80-4839-b902-aa771e155f93",
   "metadata": {},
   "outputs": [],
   "source": [
    "// import ayeoh from 'bar'"
   ]
  },
  {
   "cell_type": "code",
   "execution_count": 3,
   "id": "70142675-8985-4195-8e78-dd55741d331e",
   "metadata": {},
   "outputs": [
    {
     "ename": "SyntaxError",
     "evalue": "Unexpected token 'export'",
     "execution_count": 3,
     "output_type": "error",
     "traceback": [
      "/home/jovyan/notebooks/bar.js:1",
      "export function ayeoh() {",
      "^^^^^^",
      "",
      "SyntaxError: Unexpected token 'export'",
      "    at Object.compileFunction (node:vm:352:18)",
      "    at wrapSafe (node:internal/modules/cjs/loader:1027:15)",
      "    at Module._compile (node:internal/modules/cjs/loader:1063:27)",
      "    at Object.Module._extensions..js (node:internal/modules/cjs/loader:1153:10)",
      "    at Module.load (node:internal/modules/cjs/loader:975:32)",
      "    at Function.Module._load (node:internal/modules/cjs/loader:822:12)",
      "    at Module.require (node:internal/modules/cjs/loader:999:19)",
      "    at require (node:internal/modules/cjs/helpers:102:18)",
      "    at evalmachine.<anonymous>:2:19",
      "    at Script.runInThisContext (node:vm:129:12)"
     ]
    }
   ],
   "source": [
    "// const { ayeoh } = require(\"../../src/foo/bar.js\")\n",
    "const { ayeoh } = require(\"./bar.js\")"
   ]
  },
  {
   "cell_type": "code",
   "execution_count": 4,
   "id": "4409b38f-56ae-4ec8-8946-e821c31cc8b6",
   "metadata": {},
   "outputs": [
    {
     "name": "stdout",
     "output_type": "stream",
     "text": [
      ".\n"
     ]
    }
   ],
   "source": [
    "console.log(__dirname)"
   ]
  },
  {
   "cell_type": "code",
   "execution_count": 5,
   "id": "2ac89169-4295-4a0a-bcc7-2228447b21e9",
   "metadata": {},
   "outputs": [
    {
     "name": "stdout",
     "output_type": "stream",
     "text": [
      ".\n"
     ]
    }
   ],
   "source": [
    "console.log(path.dirname(__filename));"
   ]
  },
  {
   "cell_type": "code",
   "execution_count": 6,
   "id": "6274976d-36f2-42a3-8b1c-13b653013535",
   "metadata": {},
   "outputs": [
    {
     "data": {
      "text/plain": [
       "'/home/jovyan/notebooks'"
      ]
     },
     "execution_count": 6,
     "metadata": {},
     "output_type": "execute_result"
    }
   ],
   "source": [
    "process.cwd();"
   ]
  },
  {
   "cell_type": "code",
   "execution_count": 7,
   "id": "42fabd6c-d2ec-4cd7-8873-a42598f16fb6",
   "metadata": {},
   "outputs": [
    {
     "name": "stdout",
     "output_type": "stream",
     "text": [
      "undefined\n"
     ]
    }
   ],
   "source": [
    "console.log(module.exports)"
   ]
  }
 ],
 "metadata": {
  "kernelspec": {
   "display_name": "JavaScript (Node.js)",
   "language": "javascript",
   "name": "javascript"
  },
  "language_info": {
   "file_extension": ".js",
   "mimetype": "application/javascript",
   "name": "javascript",
   "version": "17.9.0"
  }
 },
 "nbformat": 4,
 "nbformat_minor": 5
}
