{
 "cells": [
  {
   "cell_type": "code",
   "execution_count": 1,
   "id": "9af617ab",
   "metadata": {},
   "outputs": [],
   "source": [
    "%load_ext autoreload\n",
    "%autoreload 3"
   ]
  },
  {
   "cell_type": "code",
   "execution_count": 2,
   "id": "0d244c91",
   "metadata": {},
   "outputs": [],
   "source": [
    "from modules.example import some_method"
   ]
  },
  {
   "cell_type": "code",
   "execution_count": 4,
   "id": "4f44894b",
   "metadata": {},
   "outputs": [
    {
     "data": {
      "text/plain": [
       "'Ayeasddasoh'"
      ]
     },
     "execution_count": 4,
     "metadata": {},
     "output_type": "execute_result"
    }
   ],
   "source": [
    "some_method()"
   ]
  },
  {
   "cell_type": "code",
   "execution_count": null,
   "id": "d55dce56",
   "metadata": {},
   "outputs": [],
   "source": []
  },
  {
   "cell_type": "code",
   "execution_count": null,
   "id": "b7a40db9-d571-4ecf-80a3-64c0e2ad2408",
   "metadata": {},
   "outputs": [],
   "source": []
  }
 ],
 "metadata": {
  "kernelspec": {
   "display_name": "Python 3 (ipykernel)",
   "language": "python",
   "name": "python3"
  },
  "language_info": {
   "codemirror_mode": {
    "name": "ipython",
    "version": 3
   },
   "file_extension": ".py",
   "mimetype": "text/x-python",
   "name": "python",
   "nbconvert_exporter": "python",
   "pygments_lexer": "ipython3",
   "version": "3.8.13"
  }
 },
 "nbformat": 4,
 "nbformat_minor": 5
}
