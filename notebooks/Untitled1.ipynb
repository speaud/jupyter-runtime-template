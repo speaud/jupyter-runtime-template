{
 "cells": [
  {
   "cell_type": "code",
   "execution_count": 1,
   "id": "b76bae68-050c-4a5c-b0be-b87c82cdad48",
   "metadata": {},
   "outputs": [],
   "source": [
    "// const { ayeoh } = require(\"./bar.js\")"
   ]
  },
  {
   "cell_type": "code",
   "execution_count": 2,
   "id": "226f3976-7132-4a7d-bdbc-c8915dda8c8d",
   "metadata": {},
   "outputs": [],
   "source": [
    "// import ayeoh from 'bar'b"
   ]
  },
  {
   "cell_type": "code",
   "execution_count": 3,
   "id": "9d5ff4cd-7e49-40b3-bfd2-803b4d6f7613",
   "metadata": {},
   "outputs": [],
   "source": [
    "// %load_ext autoreload\n",
    "// %autoreload 3"
   ]
  },
  {
   "cell_type": "code",
   "execution_count": 2,
   "id": "6709a2f8-2a76-4dea-86ba-1b6b199b5d73",
   "metadata": {},
   "outputs": [],
   "source": [
    "var fs = require('fs');"
   ]
  },
  {
   "cell_type": "code",
   "execution_count": 1,
   "id": "11dc16ca-2b95-415e-ab65-8e9adcebf3c0",
   "metadata": {},
   "outputs": [
    {
     "ename": "SyntaxError",
     "evalue": "Cannot use import statement outside a module",
     "execution_count": 1,
     "output_type": "error",
     "traceback": [
      "evalmachine.<anonymous>:1",
      "import fs from \"fs\"",
      "^^^^^^",
      "",
      "SyntaxError: Cannot use import statement outside a module",
      "    at new Script (node:vm:100:7)",
      "    at createScript (node:vm:257:10)",
      "    at Object.runInThisContext (node:vm:305:10)",
      "    at run ([eval]:1020:15)",
      "    at onRunRequest ([eval]:864:18)",
      "    at onMessage ([eval]:828:13)",
      "    at process.emit (node:events:527:28)",
      "    at emit (node:internal/child_process:936:14)",
      "    at processTicksAndRejections (node:internal/process/task_queues:84:21)"
     ]
    }
   ],
   "source": [
    "import fs from \"fs\""
   ]
  },
  {
   "cell_type": "code",
   "execution_count": 5,
   "id": "c0fa8307-eb0a-485c-b3a5-171acc0ca26f",
   "metadata": {},
   "outputs": [
    {
     "ename": "SyntaxError",
     "evalue": "Cannot use import statement outside a module",
     "execution_count": 5,
     "output_type": "error",
     "traceback": [
      "evalmachine.<anonymous>:1",
      "import { ayeoh } from './mjsbar.mjs'",
      "^^^^^^",
      "",
      "SyntaxError: Cannot use import statement outside a module",
      "    at new Script (node:vm:100:7)",
      "    at createScript (node:vm:257:10)",
      "    at Object.runInThisContext (node:vm:305:10)",
      "    at run ([eval]:1020:15)",
      "    at onRunRequest ([eval]:864:18)",
      "    at onMessage ([eval]:828:13)",
      "    at process.emit (node:events:527:28)",
      "    at emit (node:internal/child_process:936:14)",
      "    at processTicksAndRejections (node:internal/process/task_queues:84:21)"
     ]
    }
   ],
   "source": [
    "import { ayeoh } from './mjsbar.mjs'"
   ]
  }
 ],
 "metadata": {
  "kernelspec": {
   "display_name": "JavaScript (Node.js)",
   "language": "javascript",
   "name": "javascript"
  },
  "language_info": {
   "file_extension": ".js",
   "mimetype": "application/javascript",
   "name": "javascript",
   "version": "17.9.0"
  }
 },
 "nbformat": 4,
 "nbformat_minor": 5
}
